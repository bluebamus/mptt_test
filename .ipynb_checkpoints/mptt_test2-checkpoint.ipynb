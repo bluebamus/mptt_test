{
 "cells": [
  {
   "cell_type": "code",
   "execution_count": 1,
   "id": "7bc449b0",
   "metadata": {},
   "outputs": [],
   "source": [
    "import os"
   ]
  },
  {
   "cell_type": "code",
   "execution_count": 2,
   "id": "7b437302",
   "metadata": {},
   "outputs": [],
   "source": [
    "os.environ[\"DJANGO_ALLOW_ASYNC_UNSAFE\"] = \"true\""
   ]
  },
  {
   "cell_type": "code",
   "execution_count": 4,
   "id": "43e78f29",
   "metadata": {},
   "outputs": [],
   "source": [
    "from mptt_test2.models import Category"
   ]
  },
  {
   "cell_type": "code",
   "execution_count": 21,
   "id": "12bea8c6",
   "metadata": {},
   "outputs": [],
   "source": [
    "node = Category.objects.get(name='3')"
   ]
  },
  {
   "cell_type": "code",
   "execution_count": 22,
   "id": "69d8f8c7",
   "metadata": {},
   "outputs": [
    {
     "data": {
      "text/plain": [
       "(8, {'mptt_test1.Category': 8})"
      ]
     },
     "execution_count": 22,
     "metadata": {},
     "output_type": "execute_result"
    }
   ],
   "source": [
    "node.delete()"
   ]
  },
  {
   "cell_type": "code",
   "execution_count": 7,
   "id": "8c1068ae",
   "metadata": {},
   "outputs": [
    {
     "data": {
      "text/plain": [
       "mptt_test1.models.Category"
      ]
     },
     "execution_count": 7,
     "metadata": {},
     "output_type": "execute_result"
    }
   ],
   "source": [
    "type(node)"
   ]
  },
  {
   "cell_type": "code",
   "execution_count": 14,
   "id": "6f94850e",
   "metadata": {},
   "outputs": [],
   "source": [
    "child=node.get_children()"
   ]
  },
  {
   "cell_type": "code",
   "execution_count": 17,
   "id": "8c91f8cd",
   "metadata": {},
   "outputs": [
    {
     "data": {
      "text/plain": [
       "<TreeQuerySet [{'id': 23, 'name': '13', 'parent_id': 22, 'slug': '13', 'lft': 5, 'rght': 6, 'tree_id': 2, 'level': 4}, {'id': 24, 'name': '14', 'parent_id': 22, 'slug': '14', 'lft': 7, 'rght': 8, 'tree_id': 2, 'level': 4}]>"
      ]
     },
     "execution_count": 17,
     "metadata": {},
     "output_type": "execute_result"
    }
   ],
   "source": []
  },
  {
   "cell_type": "code",
   "execution_count": null,
   "id": "9ce93a32",
   "metadata": {},
   "outputs": [],
   "source": []
  }
 ],
 "metadata": {
  "kernelspec": {
   "display_name": "Django Shell-Plus",
   "language": "python",
   "name": "django_extensions"
  },
  "language_info": {
   "codemirror_mode": {
    "name": "ipython",
    "version": 3
   },
   "file_extension": ".py",
   "mimetype": "text/x-python",
   "name": "python",
   "nbconvert_exporter": "python",
   "pygments_lexer": "ipython3",
   "version": "3.10.0"
  }
 },
 "nbformat": 4,
 "nbformat_minor": 5
}
